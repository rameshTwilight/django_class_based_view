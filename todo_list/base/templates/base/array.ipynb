{
 "cells": [
  {
   "cell_type": "code",
   "execution_count": 5,
   "metadata": {},
   "outputs": [],
   "source": [
    "a = [7,\"nero\", \"hunk\", \"nero\", \"dante\", \"chris\", \"vergil\", \"leon\", \"chris\", 7]"
   ]
  },
  {
   "cell_type": "code",
   "execution_count": 7,
   "metadata": {},
   "outputs": [],
   "source": [
    "b = list(set(a))"
   ]
  },
  {
   "cell_type": "code",
   "execution_count": 8,
   "metadata": {},
   "outputs": [
    {
     "name": "stdout",
     "output_type": "stream",
     "text": [
      "['a', 'b', 'c', 1, 2, 4]\n"
     ]
    }
   ],
   "source": [
    "mylist = [\"a\", \"b\", \"a\", \"c\", \"c\", 1, 2, 4, 1]\n",
    "mylist = list( dict.fromkeys(mylist) )\n",
    "print(mylist) "
   ]
  },
  {
   "cell_type": "code",
   "execution_count": 21,
   "metadata": {},
   "outputs": [
    {
     "data": {
      "text/plain": [
       "[1, 1, 2, 2, 5, 6, 9]"
      ]
     },
     "execution_count": 21,
     "metadata": {},
     "output_type": "execute_result"
    }
   ],
   "source": [
    "k = [1,5,2, 6, 9, 2,1]\n",
    "k.sort()\n",
    "k"
   ]
  },
  {
   "cell_type": "code",
   "execution_count": 14,
   "metadata": {},
   "outputs": [],
   "source": [
    "k"
   ]
  },
  {
   "cell_type": "code",
   "execution_count": 26,
   "metadata": {},
   "outputs": [
    {
     "name": "stdout",
     "output_type": "stream",
     "text": [
      "The original list is : ['striker', 'blacktail', 'red9', 'striker', 'blacktail', 'red9', 8, 8, 1, 1]\n",
      "The list after removing duplicates : ['striker', 'blacktail', 'red9', 8, 1]\n"
     ]
    }
   ],
   "source": [
    "test_list = [\"striker\", \"blacktail\", \"red9\", \"striker\", \"blacktail\", \"red9\", 8, 8, 1, 1]\n",
    "print(\"The original list is : \" + str(test_list))\n",
    "\n",
    "res = []\n",
    "[res.append(x) for x in test_list if x not in res]\n",
    "\n",
    "print(\"The list after removing duplicates : \" + str(res))"
   ]
  },
  {
   "cell_type": "code",
   "execution_count": 33,
   "metadata": {},
   "outputs": [
    {
     "name": "stdout",
     "output_type": "stream",
     "text": [
      "[1, 'striker', 'blacktail', 'red9', 8]\n"
     ]
    }
   ],
   "source": [
    "android = [1, \"striker\", \"blacktail\", \"red9\", 8, 8, \"striker\", \"blacktail\", \"red9\", 1]\n",
    "new = []\n",
    "for x in android:\n",
    "    if x not in new:\n",
    "        new.append(x)\n",
    "\n",
    "\n",
    "print(new)\n"
   ]
  },
  {
   "cell_type": "code",
   "execution_count": 35,
   "metadata": {},
   "outputs": [
    {
     "data": {
      "text/plain": [
       "[1, 'red9', 'blacktail', 'striker', 8, 8, 'red9', 'blacktail', 'striker', 1]"
      ]
     },
     "execution_count": 35,
     "metadata": {},
     "output_type": "execute_result"
    }
   ],
   "source": []
  },
  {
   "cell_type": "code",
   "execution_count": null,
   "metadata": {},
   "outputs": [],
   "source": []
  }
 ],
 "metadata": {
  "kernelspec": {
   "display_name": "kisame",
   "language": "python",
   "name": "python3"
  },
  "language_info": {
   "codemirror_mode": {
    "name": "ipython",
    "version": 3
   },
   "file_extension": ".py",
   "mimetype": "text/x-python",
   "name": "python",
   "nbconvert_exporter": "python",
   "pygments_lexer": "ipython3",
   "version": "3.10.9 (main, Jan 11 2023, 15:21:40) [GCC 11.2.0]"
  },
  "orig_nbformat": 4,
  "vscode": {
   "interpreter": {
    "hash": "cb876732ca889b7cba875a148069b839e2657f8f79507a027537c1e8f56afd50"
   }
  }
 },
 "nbformat": 4,
 "nbformat_minor": 2
}
